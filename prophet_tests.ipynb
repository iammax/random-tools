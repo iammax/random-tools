{
 "cells": [
  {
   "cell_type": "markdown",
   "id": "75badb3a",
   "metadata": {
    "ExecuteTime": {
     "end_time": "2023-01-24T17:41:23.751542Z",
     "start_time": "2023-01-24T17:41:23.745545Z"
    }
   },
   "source": [
    "<h1> Imports and prep"
   ]
  },
  {
   "cell_type": "code",
   "execution_count": null,
   "id": "966020b2",
   "metadata": {
    "ExecuteTime": {
     "end_time": "2023-01-24T18:39:36.351063Z",
     "start_time": "2023-01-24T18:39:36.346004Z"
    }
   },
   "outputs": [],
   "source": [
    "#airline data from here: https://www.kaggle.com/code/prashant111/tutorial-time-series-forecasting-with-prophet/data"
   ]
  },
  {
   "cell_type": "code",
   "execution_count": null,
   "id": "deea0fd4",
   "metadata": {
    "ExecuteTime": {
     "end_time": "2023-01-24T18:39:38.952012Z",
     "start_time": "2023-01-24T18:39:36.354720Z"
    }
   },
   "outputs": [],
   "source": [
    "import ipydeps\n",
    "ipydeps.pip(['plotly', 'prophet', 'numpy', 'pandas', 'matplotlib'])\n",
    "from prophet import Prophet\n",
    "from prophet.plot import plot_plotly\n",
    "import plotly.offline as py\n",
    "py.init_notebook_mode()\n",
    "import numpy as np\n",
    "import pandas as pd\n",
    "import matplotlib.pyplot as plt\n",
    "import os\n",
    "from sklearn.metrics import mean_absolute_error\n",
    "for dirname, _, filenames in os.walk('/kaggle/input'):\n",
    "    for filename in filenames:\n",
    "        print(os.path.join(dirname, filename))"
   ]
  },
  {
   "cell_type": "markdown",
   "id": "a39bcd66",
   "metadata": {},
   "source": [
    "<h1> Airline dataset analysis (from kaggle)"
   ]
  },
  {
   "cell_type": "code",
   "execution_count": null,
   "id": "85e6efcc",
   "metadata": {
    "ExecuteTime": {
     "end_time": "2023-01-24T18:39:39.072605Z",
     "start_time": "2023-01-24T18:39:38.954163Z"
    }
   },
   "outputs": [],
   "source": [
    "#read, parse, prep, show original data\n",
    "file = '/kaggle/input/air-passengers/AirPassengers.csv'\n",
    "df = pd.read_csv(file)\n",
    "df['Month'] = pd.DatetimeIndex(df['Month'])\n",
    "df = df.rename(columns={'Month': 'ds',\n",
    "                        '#Passengers': 'y'})\n",
    "ax = df.set_index('ds').plot(figsize=(12, 8))\n",
    "ax.set_ylabel('Monthly Number of Airline Passengers')\n",
    "ax.set_xlabel('Date')\n",
    "plt.show() "
   ]
  },
  {
   "cell_type": "code",
   "execution_count": null,
   "id": "8b034f77",
   "metadata": {
    "ExecuteTime": {
     "end_time": "2023-01-24T18:39:39.409880Z",
     "start_time": "2023-01-24T18:39:39.073894Z"
    }
   },
   "outputs": [],
   "source": [
    "my_model = Prophet(interval_width=0.95) \n",
    "my_model.fit(df) #prepare model with your data\n",
    "future_dates = my_model.make_future_dataframe(periods=36, freq='MS') #make df to put predictions in...\n",
    "#set # of periods and freq\n",
    "forecast = my_model.predict(future_dates) #make predictions\n",
    "my_model.plot(forecast, uncertainty=True) #plot prediction; may show twice in notebook?"
   ]
  },
  {
   "cell_type": "code",
   "execution_count": null,
   "id": "2eb1ff79",
   "metadata": {
    "ExecuteTime": {
     "end_time": "2023-01-24T18:39:39.644485Z",
     "start_time": "2023-01-24T18:39:39.411865Z"
    }
   },
   "outputs": [],
   "source": [
    "fig1 = my_model.plot_components(forecast) #show components of prediction"
   ]
  },
  {
   "cell_type": "code",
   "execution_count": null,
   "id": "b67be057",
   "metadata": {
    "ExecuteTime": {
     "end_time": "2023-01-24T18:39:39.800977Z",
     "start_time": "2023-01-24T18:39:39.645670Z"
    }
   },
   "outputs": [],
   "source": [
    "#find and plot changepoints\n",
    "from prophet.plot import add_changepoints_to_plot\n",
    "fig = my_model.plot(forecast) \n",
    "a = add_changepoints_to_plot(fig.gca(), my_model, forecast)"
   ]
  },
  {
   "cell_type": "markdown",
   "id": "07f877ee",
   "metadata": {},
   "source": [
    "<h1> Car sales dataset analysis (from machine learning masters)</h1>\n",
    "note this one grabs the data automatically"
   ]
  },
  {
   "cell_type": "code",
   "execution_count": null,
   "id": "910980e1",
   "metadata": {
    "ExecuteTime": {
     "end_time": "2023-01-24T18:39:40.372600Z",
     "start_time": "2023-01-24T18:39:39.801982Z"
    }
   },
   "outputs": [],
   "source": [
    "#get data, prep, make model\n",
    "df = pd.read_csv('https://raw.githubusercontent.com/jbrownlee/Datasets/master/monthly-car-sales.csv', header=0)\n",
    "df.columns = ['ds', 'y']\n",
    "df['ds']= pd.to_datetime(df['ds'])\n",
    "model = Prophet()\n",
    "model.fit(df.drop(df.index[-12:])) #don't train on the last 12 months, so we can predict this period to compare...\n",
    "#... with ground truth"
   ]
  },
  {
   "cell_type": "code",
   "execution_count": null,
   "id": "d78ca4ca",
   "metadata": {
    "ExecuteTime": {
     "end_time": "2023-01-24T18:39:40.646872Z",
     "start_time": "2023-01-24T18:39:40.375398Z"
    }
   },
   "outputs": [],
   "source": [
    "#prep df to hold preds + make the preds and plot\n",
    "future = list()\n",
    "for i in range(1, 13):\n",
    "    date = '1968-%02d' % i\n",
    "    future.append([date])\n",
    "future = pd.DataFrame(future)\n",
    "future.columns = ['ds']\n",
    "future['ds'] = pd.to_datetime(future['ds'])\n",
    "forecast = model.predict(future)\n",
    "model.plot(forecast, uncertainty=True)"
   ]
  },
  {
   "cell_type": "code",
   "execution_count": null,
   "id": "ca194fc9",
   "metadata": {
    "ExecuteTime": {
     "end_time": "2023-01-24T18:39:40.772181Z",
     "start_time": "2023-01-24T18:39:40.648218Z"
    }
   },
   "outputs": [],
   "source": [
    "# forecast the last 12 months, and compare with ground truth\n",
    "forecast = model.predict(future)\n",
    "y_true = df['y'][-12:].values\n",
    "y_pred = forecast['yhat'].values\n",
    "mae = mean_absolute_error(y_true, y_pred)\n",
    "print('MAE: %.3f' % mae)\n",
    "# plot expected vs actual\n",
    "plt.plot(y_true, label='Actual')\n",
    "plt.plot(y_pred, label='Predicted')\n",
    "plt.legend()"
   ]
  },
  {
   "cell_type": "code",
   "execution_count": null,
   "id": "d5a860f1",
   "metadata": {},
   "outputs": [],
   "source": []
  }
 ],
 "metadata": {
  "kernelspec": {
   "display_name": "Python 3 (ipykernel)",
   "language": "python",
   "name": "python3"
  },
  "language_info": {
   "codemirror_mode": {
    "name": "ipython",
    "version": 3
   },
   "file_extension": ".py",
   "mimetype": "text/x-python",
   "name": "python",
   "nbconvert_exporter": "python",
   "pygments_lexer": "ipython3",
   "version": "3.11.0"
  },
  "toc": {
   "base_numbering": 1,
   "nav_menu": {},
   "number_sections": true,
   "sideBar": true,
   "skip_h1_title": false,
   "title_cell": "Table of Contents",
   "title_sidebar": "Contents",
   "toc_cell": false,
   "toc_position": {
    "height": "calc(100% - 180px)",
    "left": "10px",
    "top": "150px",
    "width": "384px"
   },
   "toc_section_display": true,
   "toc_window_display": true
  }
 },
 "nbformat": 4,
 "nbformat_minor": 5
}
